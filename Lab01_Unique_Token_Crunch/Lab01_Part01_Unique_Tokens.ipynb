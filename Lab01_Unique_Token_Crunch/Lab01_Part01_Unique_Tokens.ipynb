{
 "cells": [
  {
   "cell_type": "code",
   "execution_count": 1,
   "metadata": {},
   "outputs": [],
   "source": [
    "# Lab 1 (Part 1 - Unique Tokens)\n",
    "# James Foti\n",
    "# Red ID: 820124143\n",
    "# CS 320\n",
    "# Professor Healey\n",
    "# 6/13/2019"
   ]
  },
  {
   "cell_type": "code",
   "execution_count": 2,
   "metadata": {},
   "outputs": [
    {
     "name": "stdout",
     "output_type": "stream",
     "text": [
      "Enter file name: juliet.txt\n"
     ]
    }
   ],
   "source": [
    "fileName = str(input('Enter file name: ')) # file name: juliet.txt"
   ]
  },
  {
   "cell_type": "code",
   "execution_count": 3,
   "metadata": {},
   "outputs": [
    {
     "name": "stdout",
     "output_type": "stream",
     "text": [
      "'Tis but thy name that is my enemy.\n",
      "\n",
      "Thou art thyself, though not a Montague.\n",
      "\n",
      "What's Montague? It is nor hand, nor foot, \n",
      "\n",
      "nor arm, nor face, nor any other part\n",
      "\n",
      "belonging to a man. O, be some other name. \n",
      "\n",
      "What's in a name? That which we call a rose \n",
      "\n",
      "by any other name would smell as sweet;\n",
      "\n",
      "so Romeo would, were he not Romeo call'd, \n",
      "\n",
      "retain that dear perfection which he owes\n",
      "\n",
      "without that title. Romeo, doff thy name, \n",
      "\n",
      "and for that name, which is no part of thee, take all myself.\n"
     ]
    }
   ],
   "source": [
    "file = open(fileName)\n",
    "for line in file:\n",
    "    print (line)\n",
    "file.close()"
   ]
  },
  {
   "cell_type": "code",
   "execution_count": 4,
   "metadata": {},
   "outputs": [
    {
     "name": "stdout",
     "output_type": "stream",
     "text": [
      "[\"'Tis\", 'It', 'Montague.', 'Montague?', 'O,', 'Romeo', 'Romeo,', 'That', 'Thou', \"What's\", 'a', 'all', 'and', 'any', 'arm,', 'art', 'as', 'be', 'belonging', 'but', 'by', 'call', \"call'd,\", 'dear', 'doff', 'enemy.', 'face,', 'foot,', 'for', 'hand,', 'he', 'in', 'is', 'man.', 'my', 'myself.', 'name', 'name,', 'name.', 'name?', 'no', 'nor', 'not', 'of', 'other', 'owes', 'part', 'perfection', 'retain', 'rose', 'smell', 'so', 'some', 'sweet;', 'take', 'that', 'thee,', 'though', 'thy', 'thyself,', 'title.', 'to', 'we', 'were', 'which', 'without', 'would', 'would,']\n"
     ]
    }
   ],
   "source": [
    "with open(fileName) as infile:\n",
    "    listOfTokens = (sorted(set(infile.read().split())))\n",
    "    print (listOfTokens)"
   ]
  },
  {
   "cell_type": "code",
   "execution_count": 5,
   "metadata": {},
   "outputs": [],
   "source": [
    "fileName = fileName.replace(\".txt\", \"\")\n",
    "with open(fileName + '.out.txt', 'w') as newFile:\n",
    "    for token in listOfTokens:\n",
    "        newFile.write(\"%s\\n\" % token)"
   ]
  }
 ],
 "metadata": {
  "kernelspec": {
   "display_name": "Python 3",
   "language": "python",
   "name": "python3"
  },
  "language_info": {
   "codemirror_mode": {
    "name": "ipython",
    "version": 3
   },
   "file_extension": ".py",
   "mimetype": "text/x-python",
   "name": "python",
   "nbconvert_exporter": "python",
   "pygments_lexer": "ipython3",
   "version": "3.7.3"
  }
 },
 "nbformat": 4,
 "nbformat_minor": 2
}
